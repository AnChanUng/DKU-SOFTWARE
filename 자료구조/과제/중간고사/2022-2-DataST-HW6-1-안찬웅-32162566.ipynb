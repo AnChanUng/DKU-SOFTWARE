{
  "nbformat": 4,
  "nbformat_minor": 0,
  "metadata": {
    "colab": {
      "provenance": [],
      "collapsed_sections": []
    },
    "kernelspec": {
      "name": "python3",
      "display_name": "Python 3"
    },
    "language_info": {
      "name": "python"
    }
  },
  "cells": [
    {
      "cell_type": "markdown",
      "metadata": {
        "id": "AJ2jp6bcJg2V"
      },
      "source": [
        "＃자료구조 6주차 과제 \n",
        "- 이름: 안찬웅\n",
        "- 학번: 32162566\n",
        "\n",
        "- 과제: 2문제, 각 문제 당 10점 \n",
        "1. P5.3\n",
        "2. P5.4\n",
        "\n",
        "** 한 문제라도 컴파일 에러를 해결하지 못하고 제출하는 경우, 전체 과제 0점. \n",
        "** 풀지 못한 문제 - 만일 과제의 문제를 다 풀지 못한 경우, 여기에 풀지 못한 번호를 적으시오. \n",
        "\n",
        "\n",
        "## <font color='red' > 과제는 문제에 대한 코딩이 완성되고 테스트를 통해 적절성이 검증된 경우만 점수가 부여되며, 이외 사항에 대해서는 0점 처리 </font>"
      ]
    },
    {
      "cell_type": "markdown",
      "metadata": {
        "id": "Gag1en13KazR"
      },
      "source": [
        "## 5.3 \n",
        "\n",
        "아래에 코드셀을 만들고, 셀에 함수 myFibonacci 을 작성. "
      ]
    },
    {
      "cell_type": "code",
      "metadata": {
        "id": "oROlP7qhJS-u"
      },
      "source": [
        "def myFibonacci(n):\n",
        "    if n == 0: \n",
        "        return 0\n",
        "    elif n == 1:\n",
        "        return 1\n",
        "    else:\n",
        "        return myFibonacci(n-1) + myFibonacci(n-2)"
      ],
      "execution_count": null,
      "outputs": []
    },
    {
      "cell_type": "markdown",
      "metadata": {
        "id": "MPF9N1VNKyYb"
      },
      "source": [
        "아래에 코드셀을 만들고, myFibonacci 함수를 호출하여,   myFibonacci(10)의 결과를 출력하시오. "
      ]
    },
    {
      "cell_type": "code",
      "source": [
        "print(myFibonacci(10))"
      ],
      "metadata": {
        "colab": {
          "base_uri": "https://localhost:8080/"
        },
        "id": "4lU2riYgdmBO",
        "outputId": "0c5654b5-38db-44a2-eb48-216c30adffb3"
      },
      "execution_count": null,
      "outputs": [
        {
          "output_type": "stream",
          "name": "stdout",
          "text": [
            "55\n"
          ]
        }
      ]
    },
    {
      "cell_type": "markdown",
      "metadata": {
        "id": "KVDXivqYWgD6"
      },
      "source": [
        "#5.4\n"
      ]
    },
    {
      "cell_type": "markdown",
      "metadata": {
        "id": "l_jlkOyfYCeT"
      },
      "source": [
        "\n",
        "아래에 코드셀을 만들고, 셀에 5.4 에서 요구된 사항을 반영하여 checkPalindromeByDeque 를 구현하시오. \n",
        "\n"
      ]
    },
    {
      "cell_type": "code",
      "source": [
        "def checkPalindromeByDeque(s):\n",
        "    deque = []\n",
        "\n",
        "    for x in s:\n",
        "        if x.isalpha():                      # isalpha(): 함수는 알파벳 문자인지 아닌지 확인하는 함수, 공백 숫자, 특수문자등을 걸러줌\n",
        "            deque.append(x.lower())          # lower(): 함수는 알파벳을 소문자로 바꾸어줌\n",
        "                                             \n",
        "    while deque:\n",
        "        if deque.pop(0) != deque.pop():\n",
        "            return False\n",
        "\n",
        "    return True"
      ],
      "metadata": {
        "id": "zciLCCkoj97y"
      },
      "execution_count": 18,
      "outputs": []
    },
    {
      "cell_type": "markdown",
      "metadata": {
        "id": "VZE7QAUdYY2k"
      },
      "source": [
        "테스트: 아래에 코드셀을 만들고, 위에서 작성된 checkPalindromeByDeque 를 **다음** 입력에 대하여 테스트하시오.\n",
        "- \"madam, I'm Adam\", \"race car\""
      ]
    },
    {
      "cell_type": "code",
      "metadata": {
        "id": "T3NJ1CP-Z1IO",
        "colab": {
          "base_uri": "https://localhost:8080/"
        },
        "outputId": "90c85c31-a360-4529-be6d-615b9be29e8d"
      },
      "source": [
        "print(checkPalindromeByDeque(\"madam, I’m Adam”, “race car\"))"
      ],
      "execution_count": null,
      "outputs": [
        {
          "output_type": "stream",
          "name": "stdout",
          "text": [
            "False\n"
          ]
        }
      ]
    }
  ]
}
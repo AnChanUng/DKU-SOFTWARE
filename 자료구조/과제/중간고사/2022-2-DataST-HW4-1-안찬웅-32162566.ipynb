{
  "nbformat": 4,
  "nbformat_minor": 0,
  "metadata": {
    "colab": {
      "provenance": [],
      "collapsed_sections": []
    },
    "kernelspec": {
      "name": "python3",
      "display_name": "Python 3"
    },
    "language_info": {
      "name": "python"
    }
  },
  "cells": [
    {
      "cell_type": "markdown",
      "metadata": {
        "id": "AJ2jp6bcJg2V"
      },
      "source": [
        "＃자료구조 4주차 과제: 파이썬으로 쉽게 풀어쓴 자료구조 4장\n",
        "- 이름: 안찬웅\n",
        "- 학번: 32162566\n",
        "\n",
        "- 과제: 각 문제 당 5점 \n",
        "1. P4.2\n",
        "2. P4.3\n",
        "\n",
        "** 한 문제라도 컴파일 에러를 해결하지 못하고 제출하는 경우, 전체 과제 0점. \n",
        "** 풀지 못한 문제 - 만일 과제의 문제를 다 풀지 못한 경우, 여기에 풀지 못한 번호를 적으시오. \n",
        "\n",
        "\n",
        "## <font color='red' > 과제는 문제에 대한 코딩이 완성되고 테스트를 통해 적절성이 검증된 경우만 점수가 부여되며, 이외 사항에 대해서는 0점 처리 </font>"
      ]
    },
    {
      "cell_type": "markdown",
      "metadata": {
        "id": "Gag1en13KazR"
      },
      "source": [
        "## 4.2 \n",
        "\n",
        "아래에 코드셀을 만들고, 셀에 함수 testPalindrome 을 작성. "
      ]
    },
    {
      "cell_type": "code",
      "metadata": {
        "id": "oROlP7qhJS-u"
      },
      "source": [
        "# 특수문자, 공백 제거, 소문자처리\n",
        "\n",
        "def testPalidrome(s):\n",
        "    stack=[]                        # 리스트 생성   \n",
        "    for i in range(len(s)):         # 문자s의 길이만큼 반복    \n",
        "        stack.append(s[i])          # s[0]부터 추가\n",
        "    for i in range(len(s)):\n",
        "        if stack.pop() != s[i]:     # pop()이 s[i]가 아니면 \n",
        "            return False            # false 출력\n",
        "    return True                     # 그 외는 True출력 "
      ],
      "execution_count": null,
      "outputs": []
    },
    {
      "cell_type": "markdown",
      "metadata": {
        "id": "MPF9N1VNKyYb"
      },
      "source": [
        "아래에 코드셀을 만들고, testPalindrome 함수를 호출하여, 입력 \"madam, I'm Adam\" 과 'race car'를 데이터로 하여 테스트하시오.  "
      ]
    },
    {
      "cell_type": "code",
      "source": [
        "print(testPalidrome(\"madam,i'm Adam\"))\n",
        "print(testPalidrome('race car'))"
      ],
      "metadata": {
        "colab": {
          "base_uri": "https://localhost:8080/"
        },
        "id": "7iGxvGjsHWf0",
        "outputId": "008237ce-90db-4461-c5c6-dbda0845bc32"
      },
      "execution_count": null,
      "outputs": [
        {
          "output_type": "stream",
          "name": "stdout",
          "text": [
            "False\n",
            "False\n"
          ]
        }
      ]
    },
    {
      "cell_type": "code",
      "source": [],
      "metadata": {
        "id": "oT8sryDVC-8Y"
      },
      "execution_count": null,
      "outputs": []
    },
    {
      "cell_type": "markdown",
      "metadata": {
        "id": "KVDXivqYWgD6"
      },
      "source": [
        "# 4.3\n"
      ]
    },
    {
      "cell_type": "markdown",
      "source": [],
      "metadata": {
        "id": "sG6esAVXHz_J"
      }
    },
    {
      "cell_type": "markdown",
      "metadata": {
        "id": "l_jlkOyfYCeT"
      },
      "source": [
        "\n",
        "아래에 코드셀을 만들고, 셀에 4.3 에서 요구된 사항을 반영하여 checkBracketsUpgrade 를 구현하시오. 단 변경사항은 입력은 파일을 읽어 오는 것이 아니고 프로그램의 줄을 요소로 가지는 리스트로 주도록 변경. \n",
        "\n"
      ]
    },
    {
      "cell_type": "markdown",
      "metadata": {
        "id": "VZE7QAUdYY2k"
      },
      "source": [
        "테스트: 아래에 코드셀을 만들고, 위에서 작성된 checkBracketsUpgrade 를 **다음** 입력에 대하여 테스트하시오. \n",
        "\n",
        "myLines = [\"{A[(i+1)] = 0}\", \"if ( (i==0) and (j==0):\", \"A[(i+1]) =0\"]"
      ]
    },
    {
      "cell_type": "code",
      "metadata": {
        "id": "T3NJ1CP-Z1IO"
      },
      "source": [
        "class Stack:\n",
        "   def __init__(self):                      # 생성자\n",
        "       self.top = []                        # top이 클래스의 멤버 변수가 됨\n",
        " \n",
        "   def isEmpty(self): return len(self.top) == 0\n",
        "   def size(self): return len(self.top)\n",
        "   def clear(self): self.top = []\n",
        "\n",
        "   def push(self, item):                    # 스택s에 item을 삽입\n",
        "     self.top.append(item)\n",
        "\n",
        "   def pop(self):                           \n",
        "     if not self.Empty():                   \n",
        "        return self.top.pop(-1)             \n",
        "   \n",
        "   def peek(self):\n",
        "      if not self.isEmpty():                 \n",
        "         return self.top[-1]\n",
        "\n",
        "   def checkBracketsUpgrade(statement):\n",
        "      stack = Stack()\n",
        "      for ch in statement:                  # 문자열의 각 문자에 대해\n",
        "        if ch in ('{', '[', '('):           # in '{[('도 동일하게 동작함\n",
        "            stack.push(ch)\n",
        "        elif ch in ('}', ']', ')'):         # in '}])'도 동일하게 동작\n",
        "            if stack.isEmpty():\n",
        "              return False                  # 조건2 위반\n",
        "            else:\n",
        "              left = stack.pop()\n",
        "            if(ch==\"}\" and left != \"{\")or \\\n",
        "              (ch==\"]\" and left != \"[\")or \\\n",
        "              (ch==\"]\" and left != \"(\"):\n",
        "              return False                  # 조건3 위반\n",
        "\n",
        "      return stack.isEmpty()                # False이면 조건 1 위반"
      ],
      "execution_count": null,
      "outputs": []
    },
    {
      "cell_type": "code",
      "source": [
        "print(checkBracketsUpgrade([\"{A[(i+1)] = 0}\", \"if ( (i==0) and (j==0):\", \"A[(i+1]) =0\"]))"
      ],
      "metadata": {
        "colab": {
          "base_uri": "https://localhost:8080/"
        },
        "id": "fYrayocnYJGY",
        "outputId": "9e9fbd4c-1434-47d9-d3f0-fdd5e9831fe1"
      },
      "execution_count": null,
      "outputs": [
        {
          "output_type": "stream",
          "name": "stdout",
          "text": [
            "True\n",
            "True\n"
          ]
        }
      ]
    }
  ]
}
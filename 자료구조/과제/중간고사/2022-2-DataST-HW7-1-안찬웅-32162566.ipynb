{
  "nbformat": 4,
  "nbformat_minor": 0,
  "metadata": {
    "colab": {
      "provenance": [],
      "collapsed_sections": []
    },
    "kernelspec": {
      "name": "python3",
      "display_name": "Python 3"
    },
    "language_info": {
      "name": "python"
    }
  },
  "cells": [
    {
      "cell_type": "markdown",
      "metadata": {
        "id": "AJ2jp6bcJg2V"
      },
      "source": [
        "＃ 자료구조 7주차 과제 \n",
        "- 이름: 안찬웅\n",
        "- 학번: 32162566\n",
        "\n",
        "- 과제: 3문제, 각 문제 당 5 점 \n",
        "1. P6.2\n",
        "2. P6.3\n",
        "3. P6.4\n",
        "\n",
        "** 한 문제라도 컴파일 에러를 해결하지 못하고 제출하는 경우, 전체 과제 0점. \n",
        "** 풀지 못한 문제 - 만일 과제의 문제를 다 풀지 못한 경우, 여기에 풀지 못한  번호를 적으시오. P6.4\n",
        "\n",
        "\n",
        "\n",
        "\n",
        "## <font color='red' > 과제는 문제에 대한 코딩이 완성되고 테스트를 통해 적절성이 검증된 경우만 점수가 부여되며, 이외 사항에 대해서는 0점 처리. 코드에 에러가 있음에도 불구하고,  과제 앞 부분 미완성 부분에 적시하지 않은 경우 전체 과제를 0점 처리합니다.</font>"
      ]
    },
    {
      "cell_type": "markdown",
      "metadata": {
        "id": "Gag1en13KazR"
      },
      "source": [
        "## 6.2 \n",
        "\n",
        "아래에 코드셀을 만들고, 클래스 myLinkedList 를  문제 지시에 맞게 구현 하오. "
      ]
    },
    {
      "cell_type": "code",
      "source": [
        "class Node:                                         # 단순 연결리스트를 위한 노드 클래스\n",
        "    def __init__ (self, elem, link=None):           # 생성자. 디폴트 인수 사용\n",
        "        self.data = elem                            # 데이터 멤버 생성 및 초기화\n",
        "        self.link = link                            # 링크 생성 및 초기화\n",
        "\n",
        "class myLinkedList:                                 # 연결된 리스트 클래스\n",
        "    def __init__( self ):                           \n",
        "        self.head = None\n",
        "\n",
        "    def isEmpty( self ): return self.head == None   # 공백상태 검사\n",
        "    def clear( self ) : self.head = None            # 리스트 초기화\n",
        "\n",
        "    def size( self ):                               # self.top -> self.head로 수정\n",
        "        node = self.head\n",
        "        count = 0\n",
        "        while not node == None :\n",
        "            node = node.link\n",
        "            count += 1\n",
        "        return count\n",
        "\n",
        "    def display( self, msg='LinkedList:'):          # self.head 및 출력 수정\n",
        "        print(msg, end='')\n",
        "        node = self.head\n",
        "        while not node == None :\n",
        "            print(node.data, end=' ')\n",
        "            node = node.link\n",
        "        print()\n",
        "\n",
        "    def getNode(self, pos) :                        # pos번째 노드 반환\n",
        "        if pos < 0 : return None                    \n",
        "        node = self.head;                           # node는 head부터 시작\n",
        "        while pos > 0 and node != None :            # pos번 반복\n",
        "            node = node.link                        # node를 다음 노드로 이동\n",
        "            pos -= 1                                # 남은 반복 횟수 줄임\n",
        "        return node                                 # 최종 노드 반환\n",
        "\n",
        "    def getEntry(self, pos) :                       # pos번째 노드의 데이터 반환\n",
        "        node = self.getNode(pos)                    # pos번째 노드\n",
        "        if node == None : return None               # 찾는 노드가 없는 경우\n",
        "        else : return node.data                     # 최종 노드 반환\n",
        "\n",
        "    def replace(self, pos, elem) :                  # pos번째 노드의 데이터를 변경\n",
        "        node = self.getNode(pos)                    # pos번째 노드를 찾아\n",
        "        if node != None: node.data = elem           # 데이터 필드에 elem 복사\n",
        "\n",
        "    def find(self, data) :                          # 데이터로 data를 갖는 노드 반환\n",
        "        node = self.head;                   \n",
        "        while node is not None:                     # 모든 노드에서 찾음\n",
        "            if node.data == data : return node      # 찾아지면 바로 반환\n",
        "            node = node.link            \n",
        "        return node                                 # 찾아지지 않으면 Nonde 반환\n",
        "\n",
        "    def insert(self, pos, elem) :       \n",
        "        before = self.getNode(pos-1)                # before 노드를 찾음\n",
        "        if before == None :                         # 맨 앞에 삽입하는 경우\n",
        "            self.head = Node(elem, self.head)       # 맨 앞에 삽입\n",
        "        else :                                      # 중간에 앞에 삽입하는 경우\n",
        "            node = Node(elem, before.link)          # 노드 생성 + Step1\n",
        "            before.link = node                      # Step2\n",
        "\n",
        "    def delete(self, pos) :                         \n",
        "        before = self.getNode(pos-1)                # before 노드를 찾음\n",
        "        if before == None :                         # 시작노드를 삭제\n",
        "            if self.head is not None :              # 공백이 아니면\n",
        "                self.head = self.head.link          # head를 다음으로 이동\n",
        "        elif before.link != None :                  # 중간에 있는 노드 삭제\n",
        "            before.link = before.link.link          # Step1\n",
        "\n",
        "    def merge(self, list2):                         # merge 함수\n",
        "        new = Node(list2, self.head)\n",
        "        target = self.head\n",
        "        while target.link != None:\n",
        "            target = target.link\n",
        "        newtail = new\n",
        "        target.link = newtail\n",
        "\n",
        "\n",
        "class myLinkedList:\n",
        "    def __init__( self ):\n",
        "        self.head = None\n",
        "\n",
        "    def isEmpty( self ): return self.head == None\n",
        "    def clear( self ) : self.head = None\n",
        "\n",
        "    def size( self ):\n",
        "        node = self.head\n",
        "        count = 0\n",
        "        while not node == None :\n",
        "            node = node.link\n",
        "            count += 1\n",
        "        return count\n",
        "\n",
        "    def display( self, msg='LinkedList:'):\n",
        "        print(msg, end='')\n",
        "        node = self.head\n",
        "        while not node == None :\n",
        "            print(node.data, end=' ')\n",
        "            node = node.link\n",
        "        print()\n",
        "\n",
        "    def getNode(self, pos) :\n",
        "        if pos < 0 : return None\n",
        "        node = self.head;\n",
        "        while pos > 0 and node != None :\n",
        "            node = node.link\n",
        "            pos -= 1\n",
        "        return node\n",
        "\n",
        "    def getEntry(self, pos) :\n",
        "        node = self.getNode(pos)\n",
        "        if node == None : return None\n",
        "        else : return node.data\n",
        "\n",
        "    def replace(self, pos, elem) :\n",
        "        node = self.getNode(pos)\n",
        "        if node != None: node.data = elem\n",
        "\n",
        "    def find(self, data) :\n",
        "        node = self.head;\n",
        "        while node is not None:\n",
        "            if node.data == data : return node\n",
        "            node = node.link\n",
        "        return node\n",
        "\n",
        "    def insert(self, pos, elem) :\n",
        "        before = self.getNode(pos-1)\n",
        "        if before == None :\n",
        "            self.head = Node(elem, self.head)\n",
        "        else :\n",
        "            node = Node(elem, before.link)\n",
        "            before.link = node\n",
        "\n",
        "    def delete(self, pos) :\n",
        "        before = self.getNode(pos-1)\n",
        "        if before == None :\n",
        "            if self.head is not None :\n",
        "                self.head = self.head.link\n",
        "        elif before.link != None :\n",
        "            before.link = before.link.link\n",
        "\n",
        "    def merge(self, list2):\n",
        "        temp = self.head\n",
        "        while temp.link:\n",
        "            temp = temp.link\n",
        "        temp.link = Node(list2, None)\n"
      ],
      "metadata": {
        "id": "Q84NrlNEONGk"
      },
      "execution_count": null,
      "outputs": []
    },
    {
      "cell_type": "markdown",
      "metadata": {
        "id": "MPF9N1VNKyYb"
      },
      "source": [
        "아래 테스트 코드를 이용하여, 구현된 merge() 연산을 테스트 하시오. "
      ]
    },
    {
      "cell_type": "code",
      "source": [
        "# test code: DO NOT MODIFY\n",
        "\n",
        "s = myLinkedList()\n",
        "s.insert(0,10)\n",
        "s.insert(1,30)\n",
        "s.insert(2,50)\n",
        "s.insert(3,70)\n",
        "s.insert(4,90)\n",
        "\n",
        "t = myLinkedList()\n",
        "t.insert(0,20)\n",
        "t.insert(1,40)\n",
        "t.insert(2,60)\n",
        "t.insert(3,80)\n",
        "t.insert(4,100)\n",
        "\n",
        "s.merge(t)\n",
        "s.display()\n",
        "\n",
        "# should be 10\n",
        "print(\"s size: \", s.size()) \n",
        "\n",
        "# should be 0 -> check prob. description\n",
        "print(\"t size: \", t.size()) "
      ],
      "metadata": {
        "colab": {
          "base_uri": "https://localhost:8080/"
        },
        "id": "Bnx5zk5hO9ir",
        "outputId": "4b8c6850-834b-4f91-db2b-06a22cdc5807"
      },
      "execution_count": null,
      "outputs": [
        {
          "output_type": "stream",
          "name": "stdout",
          "text": [
            "LinkedList:10 30 50 70 90 <__main__.myLinkedList object at 0x7f7216b5ff90> \n",
            "s size:  6\n",
            "t size:  5\n"
          ]
        }
      ]
    },
    {
      "cell_type": "markdown",
      "metadata": {
        "id": "KVDXivqYWgD6"
      },
      "source": [
        "#6.3 \n"
      ]
    },
    {
      "cell_type": "markdown",
      "metadata": {
        "id": "l_jlkOyfYCeT"
      },
      "source": [
        "\n",
        "아래에 코드셀을 만들고, 셀에 6.3 에서 요구된 사항을 반영하여 myLinkedListQueue 클래스를 구현하시오. 구현하여야 하는 메소드는 교재 209 페이지에 구현된 CircularLinkedQueue 를 참조하여 동일 메소드를 문제에 맞게 변형하여 구현한다. \n",
        "\n"
      ]
    },
    {
      "cell_type": "code",
      "source": [
        "class Node:                                        # 단순 연결리스트를 위한 노드 클래스\n",
        "   def __init__ (self, elem, link=None):           # 생성자. 디폴트 인수 사용\n",
        "       self.data = elem                            # 데이터 멤버 생성 및 초기화\n",
        "       self.link = link                            # 링크 생성 및 초기화\n",
        "\n",
        "class myLinkedListQueue:                           # 단순연결 리스트를 이용한 연결된 큐 클래스\n",
        "   def __init__(self):                             # 생성자 함수\n",
        "     self.tail = None                              # tatil: 유일한 데이터\n",
        "    \n",
        "   def isEmpty(self): return self.tail == None     # 공백상태 검사\n",
        "   def clear(self): self.tail = None               # 큐 초기화\n",
        "   def peek(self):                                 # peek 연산\n",
        "     if not self.isEmpty():                        # 공백이 아니면\n",
        "        return self.tail.link.data                 # front의 data를 반환\n",
        "\n",
        "   def enqueue(self, item):                        # 삽입연산\n",
        "       node = Node(item, None)                     # Step1\n",
        "       if self.isEmpty():                          # Case 1: 큐가 공백상태\n",
        "         node.link = node                          # Case 1: Step2\n",
        "         self.tail = node                          # Case 1: Step3\n",
        "       else:                                       # Case 2: 큐가 공백이 아님\n",
        "         node.link = self.tail.link                # Case 2: Step2\n",
        "         self.tail.link = node                     # Case 2: Step3\n",
        "         self.tail = node                          # Case 2: Step4\n",
        "\n",
        "   def dequeue(self):                              \n",
        "       if not self.isEmpty():\n",
        "          data = self.tail.link.data               # Step1 (데이터만 저장)\n",
        "          if self.tail.link == self.tail:          # Case 1: 항목이 하나\n",
        "             self.tail = None                      # Case 1: Step2\n",
        "          else:                                    # Case 2: 항목이 여러개\n",
        "             self.tail.link = self.tail.link.link  # Csee 2: Step2\n",
        "          return data                              # Step3\n",
        "    \n",
        "   def size(self):                                 \n",
        "       if self.isEmpty(): return 0                 # 공백: 0반환\n",
        "       else:                                       # 공백이 아니면 \n",
        "          count = 1                                # count는 최소1\n",
        "          node = self.tail.link                    # node는 front부터 출발\n",
        "          while not node == self.tail:             # node는 rear가 아닌 동안\n",
        "             node = node.link                      # 이동\n",
        "             count += 1                            # count 증가\n",
        "          return count                             # 최종 count 반환\n",
        "    \n",
        "   def display(self, msg='myLinkedListQueue'):     # 디폴트 인수 사용\n",
        "       print(msg, end='')                          \n",
        "       if not self.isEmpty():\n",
        "          node = self.tail.link                    # node는 front부터 출발\n",
        "          while not node == self.tail:             # node가 rear가 아닌 경우\n",
        "             print(node.data, end=' ')             # node 출력\n",
        "             node = node.link                      # 이동\n",
        "          print(node.data, end='')                 # 마지막으로 rear 출력\n",
        "       print()                                     # 한줄 띄우기"
      ],
      "metadata": {
        "id": "jwnDjE8Wrh7q"
      },
      "execution_count": null,
      "outputs": []
    },
    {
      "cell_type": "markdown",
      "source": [],
      "metadata": {
        "id": "9swZt_E3rfYR"
      }
    },
    {
      "cell_type": "markdown",
      "metadata": {
        "id": "VZE7QAUdYY2k"
      },
      "source": [
        "아래 코드셀에 주어진 코드를 수정하지 않은 상태에서, myLinkedListQueue 클래스를 테스트하시오. "
      ]
    },
    {
      "cell_type": "code",
      "metadata": {
        "id": "T3NJ1CP-Z1IO",
        "colab": {
          "base_uri": "https://localhost:8080/"
        },
        "outputId": "89c3ab23-d7ba-49b4-d5c1-210ec319c8bd"
      },
      "source": [
        "# test code: DO NOT MODIFY\n",
        "s = myLinkedListQueue()\n",
        "s.enqueue(10); s.enqueue(20); s.enqueue(30); s.enqueue(50)\n",
        "s.enqueue(60); s.enqueue(70); s.enqueue(80); s.enqueue(90)\n",
        "\n",
        "s.dequeue(); s.dequeue(); s.dequeue()\n",
        "\n",
        "print(\"queue size: \", s.size())\n",
        "s.display()\n"
      ],
      "execution_count": null,
      "outputs": [
        {
          "output_type": "stream",
          "name": "stdout",
          "text": [
            "queue size:  5\n",
            "myLinkedListQueue50 60 70 80 90\n"
          ]
        }
      ]
    },
    {
      "cell_type": "markdown",
      "metadata": {
        "id": "yiB2DksAi5y1"
      },
      "source": [
        "##6.4\n"
      ]
    },
    {
      "cell_type": "markdown",
      "metadata": {
        "id": "cMqLFnjfi7ub"
      },
      "source": [
        "아래에 코드셀을 만들고, 셀에 6.4 에서 요구된 사항을 반영하여 myDoubleLinkedListQueue 클래스를 구현하시오."
      ]
    },
    {
      "cell_type": "code",
      "source": [
        "class DNode:                                            # 이중연결리스트를 위한 노드\n",
        "   def __init__(self, elem, prev = None, next = None):\n",
        "      self.data = elem\n",
        "      self.prev = prev\n",
        "      self.next = next\n",
        "\n",
        "class myDoubleLinkedListQueue:\n",
        "   def __init__(self):\n",
        "      self.front = None\n",
        "      self.rear = None\n",
        "   def isEmpty(self): return self.front == None          # 공백상태 검사\n",
        "   def clear(self): self.front = self.rear = None        # 초기화\n",
        "   def size( self ):      \n",
        "      return self.size()                              \n",
        "\n",
        "   def display( self, msg='myDoubleLinkedListQueue:'):   # self.top를 self.front로, link를 next로 수정\n",
        "        print(msg, end='')                              \n",
        "        node = self.head\n",
        "        while not node == None :\n",
        "            print(node.data, end=' ')\n",
        "            node = node.link\n",
        "        print()\n",
        "   \n",
        "   def addFront(self, item):                             # 전단 삽입\n",
        "       node = DNode(item, None, self.front)\n",
        "       if(self.isEmpty()):\n",
        "          self.front = self.read = node\n",
        "       else:\n",
        "          self.front.prev = node\n",
        "          self.front = node\n",
        "   def addRear(self, item):                              # 후단 삽입\n",
        "       node = DNode(item, self.rear, None)\n",
        "       if(self.isEmpty()):\n",
        "          self.front = self.rear = node\n",
        "       else:\n",
        "          self.rear.next = node\n",
        "          self.rear = node\n",
        "     \n",
        "   def deleteFront(self):                                # 전단 삭제\n",
        "       if not self.isEmpty():\n",
        "          data = self.front.data\n",
        "          self.front = self.front.next\n",
        "          if self.front == None:\n",
        "             self.rear = None\n",
        "          else:\n",
        "             self.front.prev = None\n",
        "          return data\n",
        "\n",
        "   def deleteRear(self):                                  # 후단 삭제\n",
        "       if not self.isEmpty():\n",
        "          data = self.rear.data\n",
        "          self.rear = self.rear.prev\n",
        "          if self.rear == None:\n",
        "             self.front = None\n",
        "          else:\n",
        "             self.rear.next = None\n",
        "          return data    "
      ],
      "metadata": {
        "id": "RQq87oJW-QW8"
      },
      "execution_count": null,
      "outputs": []
    },
    {
      "cell_type": "code",
      "source": [],
      "metadata": {
        "id": "5BWl9Cj2VqIA"
      },
      "execution_count": null,
      "outputs": []
    },
    {
      "cell_type": "markdown",
      "metadata": {
        "id": "CppsIX0yjG-P"
      },
      "source": [
        "아래 코드셀에 주어진 코드를 수정하지 않은 상태에서, myDoubleLinkedListQueue 클래스를 테스트하시오."
      ]
    },
    {
      "cell_type": "code",
      "metadata": {
        "id": "TtN9_KX9jL3J",
        "colab": {
          "base_uri": "https://localhost:8080/",
          "height": 248
        },
        "outputId": "b31e7187-9a78-4ee6-dbaa-63740cc49e47"
      },
      "source": [
        "# test code: DO NOT MODIFY\n",
        "d = myDoubleLinkedListQueue()\n",
        "d.enqueue(10); d.enqueue(20); d.enqueue(30); d.enqueue(50)\n",
        "d.enqueue(60); d.enqueue(70); d.enqueue(80); d.enqueue(90)\n",
        "\n",
        "d.dequeue(); d.dequeue(); d.dequeue()\n",
        "\n",
        "print(\"queue size: \", d.size())\n",
        "d.display()"
      ],
      "execution_count": null,
      "outputs": [
        {
          "output_type": "error",
          "ename": "AttributeError",
          "evalue": "ignored",
          "traceback": [
            "\u001b[0;31m---------------------------------------------------------------------------\u001b[0m",
            "\u001b[0;31mAttributeError\u001b[0m                            Traceback (most recent call last)",
            "\u001b[0;32m<ipython-input-89-e40aa435c425>\u001b[0m in \u001b[0;36m<module>\u001b[0;34m\u001b[0m\n\u001b[1;32m      1\u001b[0m \u001b[0;31m# test code: DO NOT MODIFY\u001b[0m\u001b[0;34m\u001b[0m\u001b[0;34m\u001b[0m\u001b[0;34m\u001b[0m\u001b[0m\n\u001b[1;32m      2\u001b[0m \u001b[0md\u001b[0m \u001b[0;34m=\u001b[0m \u001b[0mmyDoubleLinkedListQueue\u001b[0m\u001b[0;34m(\u001b[0m\u001b[0;34m)\u001b[0m\u001b[0;34m\u001b[0m\u001b[0;34m\u001b[0m\u001b[0m\n\u001b[0;32m----> 3\u001b[0;31m \u001b[0md\u001b[0m\u001b[0;34m.\u001b[0m\u001b[0menqueue\u001b[0m\u001b[0;34m(\u001b[0m\u001b[0;36m10\u001b[0m\u001b[0;34m)\u001b[0m\u001b[0;34m;\u001b[0m \u001b[0md\u001b[0m\u001b[0;34m.\u001b[0m\u001b[0menqueue\u001b[0m\u001b[0;34m(\u001b[0m\u001b[0;36m20\u001b[0m\u001b[0;34m)\u001b[0m\u001b[0;34m;\u001b[0m \u001b[0md\u001b[0m\u001b[0;34m.\u001b[0m\u001b[0menqueue\u001b[0m\u001b[0;34m(\u001b[0m\u001b[0;36m30\u001b[0m\u001b[0;34m)\u001b[0m\u001b[0;34m;\u001b[0m \u001b[0md\u001b[0m\u001b[0;34m.\u001b[0m\u001b[0menqueue\u001b[0m\u001b[0;34m(\u001b[0m\u001b[0;36m50\u001b[0m\u001b[0;34m)\u001b[0m\u001b[0;34m\u001b[0m\u001b[0;34m\u001b[0m\u001b[0m\n\u001b[0m\u001b[1;32m      4\u001b[0m \u001b[0md\u001b[0m\u001b[0;34m.\u001b[0m\u001b[0menqueue\u001b[0m\u001b[0;34m(\u001b[0m\u001b[0;36m60\u001b[0m\u001b[0;34m)\u001b[0m\u001b[0;34m;\u001b[0m \u001b[0md\u001b[0m\u001b[0;34m.\u001b[0m\u001b[0menqueue\u001b[0m\u001b[0;34m(\u001b[0m\u001b[0;36m70\u001b[0m\u001b[0;34m)\u001b[0m\u001b[0;34m;\u001b[0m \u001b[0md\u001b[0m\u001b[0;34m.\u001b[0m\u001b[0menqueue\u001b[0m\u001b[0;34m(\u001b[0m\u001b[0;36m80\u001b[0m\u001b[0;34m)\u001b[0m\u001b[0;34m;\u001b[0m \u001b[0md\u001b[0m\u001b[0;34m.\u001b[0m\u001b[0menqueue\u001b[0m\u001b[0;34m(\u001b[0m\u001b[0;36m90\u001b[0m\u001b[0;34m)\u001b[0m\u001b[0;34m\u001b[0m\u001b[0;34m\u001b[0m\u001b[0m\n\u001b[1;32m      5\u001b[0m \u001b[0;34m\u001b[0m\u001b[0m\n",
            "\u001b[0;31mAttributeError\u001b[0m: 'myDoubleLinkedListQueue' object has no attribute 'enqueue'"
          ]
        }
      ]
    }
  ]
}
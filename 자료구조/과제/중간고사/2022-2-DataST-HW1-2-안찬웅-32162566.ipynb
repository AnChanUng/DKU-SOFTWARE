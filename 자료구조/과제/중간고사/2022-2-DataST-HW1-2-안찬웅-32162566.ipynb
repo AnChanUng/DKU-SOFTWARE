{
  "nbformat": 4,
  "nbformat_minor": 0,
  "metadata": {
    "colab": {
      "provenance": [],
      "collapsed_sections": [],
      "toc_visible": true
    },
    "kernelspec": {
      "name": "python3",
      "display_name": "Python 3"
    },
    "language_info": {
      "name": "python"
    }
  },
  "cells": [
    {
      "cell_type": "markdown",
      "metadata": {
        "id": "AJ2jp6bcJg2V"
      },
      "source": [
        "＃자료구조 1주차 과제 \n",
        "- 이름: 안찬웅\n",
        "- 학번: 32162566\n",
        "\n",
        "- 과제: 4 문제 각 5점 : P2.2, P2.3, P2.4, P2.5\n",
        "\n",
        "** 풀지 못한 문제 - P2.3, P2.4\n",
        "\n",
        "\n",
        "## <font color='red' > 과제는 문제에 대한 코딩이 완성되고 테스트를 통해 검증된 경우만 점수가 부여되며, 이외 사항에 대해서는 0점 처리 </font>"
      ]
    },
    {
      "cell_type": "markdown",
      "source": [
        "문제 2.2\n",
        "다음 셀에 문제에 대한 답을 up_and_down_game 함수로 작성하시오. "
      ],
      "metadata": {
        "id": "B9uoWFT9RxqT"
      }
    },
    {
      "cell_type": "code",
      "source": [
        "import random\n",
        "\n",
        "answer = random.randint(0, 99) # 랜덤 숫자 생성\n",
        "n = 0 # 초기화\n",
        "guess = 0 # 초기화\n",
        "\n",
        "while answer != guess:\n",
        "    guess = int(input(\"숫자를 입력하세요(범위 0~99): \"))\n",
        "\n",
        "    if answer > guess:\n",
        "        print(\"아닙니다. 더 큰 숫자입니다!\")\n",
        "    elif answer < guess:\n",
        "        print(\"아닙니다. 더 작은 숫자입니다!\")\n",
        "    n += 1\n",
        "print(\"정답입니다\" + str(n) + \"번 만에 맞추셨습니다.\")\n",
        "print(\"게임이 끝났습니다.\")"
      ],
      "metadata": {
        "id": "1fz0fwNMR-O0",
        "colab": {
          "base_uri": "https://localhost:8080/"
        },
        "outputId": "e8b620b6-71c2-439e-e36a-759e698024d5"
      },
      "execution_count": null,
      "outputs": [
        {
          "output_type": "stream",
          "name": "stdout",
          "text": [
            "숫자를 입력하세요(범위 0~99): 50\n",
            "아닙니다. 더 작은 숫자입니다!\n",
            "숫자를 입력하세요(범위 0~99): 25\n",
            "아닙니다. 더 큰 숫자입니다!\n",
            "숫자를 입력하세요(범위 0~99): 38\n",
            "아닙니다. 더 큰 숫자입니다!\n",
            "숫자를 입력하세요(범위 0~99): 44\n",
            "아닙니다. 더 큰 숫자입니다!\n",
            "숫자를 입력하세요(범위 0~99): 46\n",
            "아닙니다. 더 큰 숫자입니다!\n",
            "숫자를 입력하세요(범위 0~99): 48\n",
            "아닙니다. 더 작은 숫자입니다!\n",
            "숫자를 입력하세요(범위 0~99): 47\n",
            "정답입니다7번 만에 맞추셨습니다.\n",
            "게임이 끝났습니다.\n"
          ]
        }
      ]
    },
    {
      "cell_type": "markdown",
      "source": [
        "위에서 작성한 함수를 호출하여 정답을 맞추는 경우를 제시하시오. "
      ],
      "metadata": {
        "id": "TMVoNZkzR_Tu"
      }
    },
    {
      "cell_type": "code",
      "source": [],
      "metadata": {
        "outputId": "e8b620b6-71c2-439e-e36a-759e698024d5",
        "colab": {
          "base_uri": "https://localhost:8080/"
        },
        "id": "xiNKANnPjWjB"
      },
      "execution_count": null,
      "outputs": [
        {
          "output_type": "stream",
          "name": "stdout",
          "text": [
            "숫자를 입력하세요(범위 0~99): 50\n",
            "아닙니다. 더 작은 숫자입니다!\n",
            "숫자를 입력하세요(범위 0~99): 25\n",
            "아닙니다. 더 큰 숫자입니다!\n",
            "숫자를 입력하세요(범위 0~99): 38\n",
            "아닙니다. 더 큰 숫자입니다!\n",
            "숫자를 입력하세요(범위 0~99): 44\n",
            "아닙니다. 더 큰 숫자입니다!\n",
            "숫자를 입력하세요(범위 0~99): 46\n",
            "아닙니다. 더 큰 숫자입니다!\n",
            "숫자를 입력하세요(범위 0~99): 48\n",
            "아닙니다. 더 작은 숫자입니다!\n",
            "숫자를 입력하세요(범위 0~99): 47\n",
            "정답입니다7번 만에 맞추셨습니다.\n",
            "게임이 끝났습니다.\n"
          ]
        }
      ]
    },
    {
      "cell_type": "markdown",
      "source": [
        "문제 2.3 다음 셀에 문제에 대한 답을 draw_triangle 함수로 작성하시오."
      ],
      "metadata": {
        "id": "9sulvy5lTSIQ"
      }
    },
    {
      "cell_type": "code",
      "source": [],
      "metadata": {
        "id": "hKUl4qjITple"
      },
      "execution_count": null,
      "outputs": []
    },
    {
      "cell_type": "markdown",
      "source": [
        "위에서 작성한 함수에 21을 패러미터 값으로 호출하여 테스트를 아래 셀에 작성하시오.  "
      ],
      "metadata": {
        "id": "WjN-ziZFTqKN"
      }
    },
    {
      "cell_type": "code",
      "source": [],
      "metadata": {
        "id": "G6lbDTrgT42F"
      },
      "execution_count": null,
      "outputs": []
    },
    {
      "cell_type": "markdown",
      "source": [
        "문제 2.4 다음 셀에 문제에 대한 답을 draw_tree 라는 함수로 작성하시오. 지정된 함수는 순환 함수(Recursive function)임에 유의하시오. 또한 결과는 2차원 배열 map 을 사용한다고 가정하시오. "
      ],
      "metadata": {
        "id": "Zi4K5qZAT5SM"
      }
    },
    {
      "cell_type": "code",
      "source": [],
      "metadata": {
        "id": "wSPItaS5UfEo"
      },
      "execution_count": null,
      "outputs": []
    },
    {
      "cell_type": "markdown",
      "source": [
        "다음에 map 을 출력하는 print_tree 라는 함수를 작성하시오. "
      ],
      "metadata": {
        "id": "q37Jev0AVjiY"
      }
    },
    {
      "cell_type": "markdown",
      "source": [],
      "metadata": {
        "id": "v8MAnhfbUfft"
      }
    },
    {
      "cell_type": "markdown",
      "source": [
        "다음의 코드를 이용하여 위에서 정의한 함수를 테스트 하시오. 수정하지 말 것. "
      ],
      "metadata": {
        "id": "H0n9WWDRVN2e"
      }
    },
    {
      "cell_type": "code",
      "source": [
        "ROWS = 6\n",
        "COLS = 64\n",
        "map = [[0 for x in range(COLS)] for x in range(ROWS)] \n",
        "draw_tree(0, 0, COLS-1)\n",
        "print_tree()"
      ],
      "metadata": {
        "id": "vWba13s6VKSi"
      },
      "execution_count": null,
      "outputs": []
    },
    {
      "cell_type": "markdown",
      "source": [
        "문제 2.5 다음 셀에 Bag 클래스를 작성하시오. "
      ],
      "metadata": {
        "id": "t52V7RGuV55i"
      }
    },
    {
      "cell_type": "code",
      "source": [
        "class Bag:\n",
        "  def contaions(bag, e): # bag에 항목 e가 있는지 검사하는 함수\n",
        "      return e in bag\n",
        "\n",
        "  def insert(bag, e):    # bag에 항목 e를 넣는 함수\n",
        "      bag.append(e)\n",
        "\n",
        "  def remove(bag, e):    # bag에 항목 e를 삭제하는 함수\n",
        "      bag.remove(e)\n",
        "\n",
        "  def count(bag):        # bag의 전체 항목 수를 계산하는 함수\n",
        "      return len(bag)"
      ],
      "metadata": {
        "id": "HoYz1IJqWADg"
      },
      "execution_count": null,
      "outputs": []
    },
    {
      "cell_type": "markdown",
      "source": [
        "다음의 코드를 이용하여 위에서 작성한 Bag 클래스를 테스트 하시오. "
      ],
      "metadata": {
        "id": "LnKC6XlOWAdN"
      }
    },
    {
      "cell_type": "code",
      "source": [
        "myBag = Bag()\n",
        "myBag.insert('휴대폰');    myBag.insert('지갑')\n",
        "myBag.insert('손수건');    myBag.insert('빗')\n",
        "myBag.insert('자료구조');  myBag.insert('야구공')\n",
        "print('가방속의 물건:', myBag.bag)\n",
        "\n",
        "myBag.insert('빗')\n",
        "myBag.remove('손수건')\n",
        "print('가방속의 물건:', myBag.bag)"
      ],
      "metadata": {
        "id": "1v04nkNQWPoU",
        "outputId": "d9ae9ee2-89d2-41b8-97e1-d6fab66f85f0",
        "colab": {
          "base_uri": "https://localhost:8080/",
          "height": 245
        }
      },
      "execution_count": null,
      "outputs": [
        {
          "output_type": "error",
          "ename": "NameError",
          "evalue": "ignored",
          "traceback": [
            "\u001b[0;31m---------------------------------------------------------------------------\u001b[0m",
            "\u001b[0;31mNameError\u001b[0m                                 Traceback (most recent call last)",
            "\u001b[0;32m<ipython-input-2-013c7970b744>\u001b[0m in \u001b[0;36m<module>\u001b[0;34m\u001b[0m\n\u001b[0;32m----> 1\u001b[0;31m \u001b[0mmyBag\u001b[0m \u001b[0;34m=\u001b[0m \u001b[0mBag\u001b[0m\u001b[0;34m(\u001b[0m\u001b[0;34m)\u001b[0m\u001b[0;34m\u001b[0m\u001b[0;34m\u001b[0m\u001b[0m\n\u001b[0m\u001b[1;32m      2\u001b[0m \u001b[0mmyBag\u001b[0m\u001b[0;34m.\u001b[0m\u001b[0minsert\u001b[0m\u001b[0;34m(\u001b[0m\u001b[0;34m'휴대폰'\u001b[0m\u001b[0;34m)\u001b[0m\u001b[0;34m;\u001b[0m    \u001b[0mmyBag\u001b[0m\u001b[0;34m.\u001b[0m\u001b[0minsert\u001b[0m\u001b[0;34m(\u001b[0m\u001b[0;34m'지갑'\u001b[0m\u001b[0;34m)\u001b[0m\u001b[0;34m\u001b[0m\u001b[0;34m\u001b[0m\u001b[0m\n\u001b[1;32m      3\u001b[0m \u001b[0mmyBag\u001b[0m\u001b[0;34m.\u001b[0m\u001b[0minsert\u001b[0m\u001b[0;34m(\u001b[0m\u001b[0;34m'손수건'\u001b[0m\u001b[0;34m)\u001b[0m\u001b[0;34m;\u001b[0m    \u001b[0mmyBag\u001b[0m\u001b[0;34m.\u001b[0m\u001b[0minsert\u001b[0m\u001b[0;34m(\u001b[0m\u001b[0;34m'빗'\u001b[0m\u001b[0;34m)\u001b[0m\u001b[0;34m\u001b[0m\u001b[0;34m\u001b[0m\u001b[0m\n\u001b[1;32m      4\u001b[0m \u001b[0mmyBag\u001b[0m\u001b[0;34m.\u001b[0m\u001b[0minsert\u001b[0m\u001b[0;34m(\u001b[0m\u001b[0;34m'자료구조'\u001b[0m\u001b[0;34m)\u001b[0m\u001b[0;34m;\u001b[0m  \u001b[0mmyBag\u001b[0m\u001b[0;34m.\u001b[0m\u001b[0minsert\u001b[0m\u001b[0;34m(\u001b[0m\u001b[0;34m'야구공'\u001b[0m\u001b[0;34m)\u001b[0m\u001b[0;34m\u001b[0m\u001b[0;34m\u001b[0m\u001b[0m\n\u001b[1;32m      5\u001b[0m \u001b[0mprint\u001b[0m\u001b[0;34m(\u001b[0m\u001b[0;34m'가방속의 물건:'\u001b[0m\u001b[0;34m,\u001b[0m \u001b[0mmyBag\u001b[0m\u001b[0;34m.\u001b[0m\u001b[0mbag\u001b[0m\u001b[0;34m)\u001b[0m\u001b[0;34m\u001b[0m\u001b[0;34m\u001b[0m\u001b[0m\n",
            "\u001b[0;31mNameError\u001b[0m: name 'Bag' is not defined"
          ]
        }
      ]
    }
  ]
}
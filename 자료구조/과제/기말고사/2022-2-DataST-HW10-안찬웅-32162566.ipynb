{
  "nbformat": 4,
  "nbformat_minor": 0,
  "metadata": {
    "colab": {
      "provenance": [],
      "collapsed_sections": []
    },
    "kernelspec": {
      "name": "python3",
      "display_name": "Python 3"
    },
    "language_info": {
      "name": "python"
    }
  },
  "cells": [
    {
      "cell_type": "markdown",
      "metadata": {
        "id": "AJ2jp6bcJg2V"
      },
      "source": [
        "＃자료구조 10주차 과제 \n",
        "- 이름: 안찬웅\n",
        "- 학번: 32162566\n",
        "\n",
        "- 과제: 각 5점\n",
        "1. P8.5\n",
        "2. P8.6\n",
        "\n",
        "\n",
        "** 한 문제라도 컴파일 에러를 해결하지 못하고 제출하는 경우, 전체 과제 0점. \n",
        "\n",
        "** 풀지 못한 문제 - 만일 과제의 문제를 다 풀지 못한 경우, 여기에 풀지 못한 번호를 적으시오.  \n",
        "\n",
        "\n",
        "## <font color='red' > 과제는 문제에 대한 코딩이 완성되고 테스트를 통해 적절성이 검증된 경우만 점수가 부여되며, 이외 사항에 대해서는 0점 처리. 코드에 에러가 있음에도 불구하고,  과제 앞 부분 미완성 부분에 적시하지 않은 경우 전체 과제를 0점 처리합니다.  </font>"
      ]
    },
    {
      "cell_type": "markdown",
      "source": [],
      "metadata": {
        "id": "UhwIXe1XJcDN"
      }
    },
    {
      "cell_type": "markdown",
      "metadata": {
        "id": "Gag1en13KazR"
      },
      "source": [
        "# 8.5 "
      ]
    },
    {
      "cell_type": "markdown",
      "metadata": {
        "id": "46ED_gOUuIyE"
      },
      "source": [
        "아래 코드셀에 함수 path_length 구현하라. "
      ]
    },
    {
      "cell_type": "code",
      "source": [
        "class TNode:                              # 이진트리를 위한 노드 클래스\n",
        "  def __init__ (self, data, left, right): # 생성자 \n",
        "     self.data = data                     # 노드의 데이터\n",
        "     self.left = left                     # 왼쪽 자식을 위한 링크\n",
        "     self.right = right                   # 오른쪽 자식을 위한 링크 \n",
        "\n",
        "def count_node(n):                        # 순환을 이용해 트리의 노드 수 계산\n",
        "    if n is None:                         # n이 None이면 공백트리 -> 0을 반환\n",
        "        return 0    \n",
        "    else:                                 # 좌우 서브트리의 노드수의 합 + 1을 반환\n",
        "        return 1+count_node(n.left) + count_node(n.right)\n",
        " \n",
        "def path_length(root):\n",
        "    if root is None:                      # root가 none이면 0\n",
        "      return 0\n",
        "    num_child = count_node(root) -  1     \n",
        "    res = path_length(root.left)          \n",
        "    res += path_length(root.right)        # res에 왼쪽이랑 오른쪽의 path_length들의 합을 더함\n",
        "    res += num_child * 1                  \n",
        "    return res"
      ],
      "metadata": {
        "id": "WRVEQRrps3aO"
      },
      "execution_count": 26,
      "outputs": []
    },
    {
      "cell_type": "markdown",
      "metadata": {
        "id": "jOYIHQslsd0A"
      },
      "source": [
        "아래의 코드를 이용하여 테스트를 수행하시오. "
      ]
    },
    {
      "cell_type": "code",
      "metadata": {
        "id": "HFyp2IcEsi4c",
        "colab": {
          "base_uri": "https://localhost:8080/"
        },
        "outputId": "bddd4733-ba02-4a8f-8ca9-91992a33bbd5"
      },
      "source": [
        "c = TNode('C', None, None)\n",
        "d = TNode('D', None, None)\n",
        "b = TNode('B', c, d)\n",
        "f = TNode('F', None, None)\n",
        "e = TNode('E', None, f)\n",
        "root = TNode('A', b, e)\n",
        "\n",
        "print(\"path length: \", path_length(root)) # should be 8"
      ],
      "execution_count": 27,
      "outputs": [
        {
          "output_type": "stream",
          "name": "stdout",
          "text": [
            "path length:  8\n"
          ]
        }
      ]
    },
    {
      "cell_type": "markdown",
      "metadata": {
        "id": "w9rXA9hpu8KL"
      },
      "source": [
        "##8.6"
      ]
    },
    {
      "cell_type": "markdown",
      "metadata": {
        "id": "c7TV7nI3vG4n"
      },
      "source": [
        "아래 코드셀에 함수 reverse 를 구현하라. 결과는 inorder traversal 결과이다. 결과 출력에는 교재 283 페이지의 inorder 함수를 이용.  "
      ]
    },
    {
      "cell_type": "code",
      "source": [
        "class TNode:                              # 이진트리를 위한 노드 클래스\n",
        "  def __init__ (self, data, left, right): # 생성자 \n",
        "     self.data = data                     # 노드의 데이터\n",
        "     self.left = left                     # 왼쪽 자식을 위한 링크\n",
        "     self.right = right                   # 오른쪽 자식을 위한 링크 \n",
        "\n",
        "def reverse(root):\n",
        "    if root:\n",
        "        root.left, root.right = reverse(root.right), reverse(root.left) # 교환\n",
        "        return root\n",
        "    return None\n",
        "\n",
        "def inorder(n):                            # 전위 순회 함수\n",
        "   if n is not None:          \n",
        "      inorder(n.left)                      # 왼쪽 서브트리 처리\n",
        "      print(n.data, end=' ')               # 루트노드 처리(화면 출력)\n",
        "      inorder(n.right)                     # 오른쪽 서브트리 처리"
      ],
      "metadata": {
        "id": "e9ulPubOtB9N"
      },
      "execution_count": 58,
      "outputs": []
    },
    {
      "cell_type": "markdown",
      "metadata": {
        "id": "_PRMFZEKvdz7"
      },
      "source": [
        "아래의 코드를 이용하여 테스트를 수행하시오."
      ]
    },
    {
      "cell_type": "code",
      "metadata": {
        "id": "znE830aqwHcn",
        "colab": {
          "base_uri": "https://localhost:8080/"
        },
        "outputId": "5243cbad-70a6-4767-bba5-914c8ba76c96"
      },
      "source": [
        "reversed_tree = reverse(root)\n",
        "inorder(reversed_tree) # F-E-A-D-B-C "
      ],
      "execution_count": 59,
      "outputs": [
        {
          "output_type": "stream",
          "name": "stdout",
          "text": [
            "F E A D B C "
          ]
        }
      ]
    }
  ]
}
{
  "nbformat": 4,
  "nbformat_minor": 0,
  "metadata": {
    "colab": {
      "provenance": [],
      "collapsed_sections": []
    },
    "kernelspec": {
      "name": "python3",
      "display_name": "Python 3"
    },
    "language_info": {
      "name": "python"
    }
  },
  "cells": [
    {
      "cell_type": "markdown",
      "metadata": {
        "id": "AJ2jp6bcJg2V"
      },
      "source": [
        "＃ 자료구조 9주차 과제 \n",
        "- 이름: 안찬웅\n",
        "- 학번: 32162566\n",
        "- 과제: P7.6\n",
        "1. 교집합/차집합 구현 각 5점  \n",
        "- 교재 3장 집합구현(113페이지)을 변형하여 교집합과 차집합 메소드를 정렬된 리스트를 사용하는 방법으로 교체\n",
        "2. P7.5, P7.6 각 5 점 \n",
        "\n",
        "** 한 문제라도 컴파일 에러를 해결하지 못하고 제출하는 경우, 전체 과제 0점. \n",
        "** 풀지 못한 문제 - 만일 과제의 문제를 다 풀지 못한 경우, 여기에 풀지 못한 번호를 적으시오. \n",
        "\n",
        "\n",
        "## <font color='red' > 과제는 문제에 대한 코딩이 완성되고 테스트를 통해 적절성이 검증된 경우만 점수가 부여되며, 이외 사항에 대해서는 0점 처리. 코드에 에러가 있음에도 불구하고,  과제 앞 부분 미완성 부분에 적시하지 않은 경우 전체 과제를 0점 처리합니다.  </font>"
      ]
    },
    {
      "cell_type": "markdown",
      "metadata": {
        "id": "Gag1en13KazR"
      },
      "source": [
        "아래 코드셀을 만들고, 클래스 OrderedListSet 을 구현하시오. 메소드 union 과 difference 메소드가 포함되어야 함. 각 메소드 5점. "
      ]
    },
    {
      "cell_type": "code",
      "source": [
        "class OrderedListSet :                    # 집합 클래스\n",
        "   def __init__(self):                    # 생성자\n",
        "     self.items = []                      # 원소를 저장하기 위한 리스트 생성\n",
        "   \n",
        "   def size(self):                        # 집합의 크기\n",
        "       return len(self.items)       \n",
        "   def display(self, msg):                # 화면에 출력\n",
        "       print(msg, self.items)             # 메시지 + 집합 내용 출력\n",
        "   def contains(self, item):\n",
        "     return item in self.items            # item이 self.items에 있는지 검사\n",
        "\n",
        "   def insert(self, elem):                # 정렬된 상태를 유지하면서 elem을 삽입\n",
        "       if elem in self.items : return     # 이미 보유\n",
        "       for idx in range(len(self.items)): # loop: n번\n",
        "           if elem < self.items[idx]:     # 삽입할 위치 idx를 찾음\n",
        "              self.items.insert(idx, elem) # 그 위치에 삽입\n",
        "              return\n",
        "       self.items.append(elem)            # 맨 뒤에 삽입\n",
        "\n",
        "   def delete(self, elem):                # 삭제\n",
        "       if elem in self.items:\n",
        "          self.items.remove(elem)\n",
        "    \n",
        "   def union(self, setB):                 # C = self U B\n",
        "      setC = OrderedListSet()             # 결과 집합\n",
        "      setC.items = list(self.items)       # self의 리스트를 setC에 복사\n",
        "      for elem in setB.items:             # 외부루프 : setB의 모든 항목에 대해\n",
        "          if elem not in self.items:      # 내부루프 : self에 없으면 중복이 아니므로 추가  \n",
        "              setC.items.append(elem)        \n",
        "      return setC                         # 결과 반환\n",
        "  \n",
        "   def intersect(self, setB):             # C = self ^ B\n",
        "       setC = OrderedListSet()           \n",
        "       for elem in setB.items:            # 외부루프: setB의 모든 항목에대해\n",
        "         if elem in self.items:           # 내부루프: self에 있으면\n",
        "            setC.items.append(elem)       # 양쪽 모두 있음 -> 추가\n",
        "       return setC\n",
        "   \n",
        "   def difference(self, setB):            # C = self - B\n",
        "       setC = OrderedListSet()\n",
        "       for elem in self.items:            # 외부루프: self의 모든 항목에 대해\n",
        "         if elem not in setB.items:       # 내부루프: selfB에 없으면\n",
        "            setC.items.append(elem)       # 추가함\n",
        "       return setC\n",
        "       \n",
        "   def __eq__(self, setB):                # 두 집합 self, selB가 같은 집합인가?\n",
        "      if self.size() != setB.size() :     # 원손의 개수가 같아야 함\n",
        "         return False\n",
        "      for idx in range(len(self.items)):  # loop: n번\n",
        "         if self.items[idx] != setB.items[idx]: # 원소별로 같은지 검사\n",
        "          return False\n",
        "      return True "
      ],
      "metadata": {
        "id": "BkrrTF4XOw4L"
      },
      "execution_count": 77,
      "outputs": []
    },
    {
      "cell_type": "markdown",
      "metadata": {
        "id": "jOYIHQslsd0A"
      },
      "source": [
        "아래의 코드를 이용하여 테스트를 수행하시오. "
      ]
    },
    {
      "cell_type": "code",
      "metadata": {
        "id": "HFyp2IcEsi4c",
        "colab": {
          "base_uri": "https://localhost:8080/"
        },
        "outputId": "b34d2b93-f8b8-4818-cfed-7d91ec386100"
      },
      "source": [
        "setA = OrderedListSet()\n",
        "setA.insert('휴대폰')\n",
        "setA.insert('지갑')\n",
        "setA.insert('손수건')\n",
        "setA.display('Set A:')\n",
        "\n",
        "setB = OrderedListSet()\n",
        "setB.insert('빗')\n",
        "setB.insert('파이썬 자료구조')\n",
        "setB.insert('야구공')\n",
        "setB.insert('지갑')\n",
        "setB.display('Set B:')\n",
        "\n",
        "setB.insert('빗')\n",
        "setA.delete('손수건')\n",
        "setA.delete('발수건')\n",
        "setA.display('Set A:')\n",
        "setB.display('Set B:')\n",
        "\n",
        "setA.union(setB).display('A U B:')\n",
        "setA.intersect(setB).display('A ^ B:')\n",
        "setA.difference(setB).display('A – B:')"
      ],
      "execution_count": 78,
      "outputs": [
        {
          "output_type": "stream",
          "name": "stdout",
          "text": [
            "Set A: ['손수건', '지갑', '휴대폰']\n",
            "Set B: ['빗', '야구공', '지갑', '파이썬 자료구조']\n",
            "Set A: ['지갑', '휴대폰']\n",
            "Set B: ['빗', '야구공', '지갑', '파이썬 자료구조']\n",
            "A U B: ['지갑', '휴대폰', '빗', '야구공', '파이썬 자료구조']\n",
            "A ^ B: ['지갑']\n",
            "A – B: ['휴대폰']\n"
          ]
        }
      ]
    },
    {
      "cell_type": "markdown",
      "source": [
        "아래 셀에 P7.5 클래스 BinarySearchMap_7_5 을 구현하시오. 엔트리는 교재 257 페이지에 나와 있는 Entry 클래스를 사용하시오."
      ],
      "metadata": {
        "id": "Bci_r8Ic6nnM"
      }
    },
    {
      "cell_type": "code",
      "source": [
        "def binary_search(A, key, low, high):\n",
        "    if (low <= high):                                  # 항목들이 남아 있으면\n",
        "        middle = (low+high) //2                        # 정수 나눗셈 //에 주의\n",
        "        if key == A[middle].key:                       # 탐색 성공\n",
        "            return middle\n",
        "        elif(key<A[middle].key):                       # 왼쪽 부분리스트 탐색\n",
        "            return binary_search(A,key,low,middle-1)\n",
        "        else:                                          # 오른쪽 부분리스트 탐색\n",
        "            return binary_search(A,key,middle+1,high)\n",
        "    return None                                        # 탐색 실패\n",
        " \n",
        "class Entry:                                           # Entry 클래스\n",
        "   def __init__( self, key, value):\n",
        "      self.key = key\n",
        "      self.value = value\n",
        "  \n",
        "   def __str__(self):\n",
        "      return str(\"%s%s\"%(self.key, self.value))\n",
        "\n",
        "class BinarySearchMap_7_5:                             # 순차탐색 맵\n",
        "   def __init__(self):\n",
        "      self.table = []                                  # 맵의 레코드 테이블\n",
        "   \n",
        "   def size(self): return len(self.table)              # 레코드 개수\n",
        "   def display(self, msg):                      \n",
        "      print(msg)\n",
        "      for entry in self.table :                        # 테이블 모든 엔트리 출력\n",
        "            print(\" \", entry)\n",
        "\n",
        "   def insert(self, key, value):                       # 삽입 연산\n",
        "      self.table.append(Entry(key, value))             # 리스트의 맨 뒤에 추가\n",
        "      \n",
        "   def search(self,key):                               # 순차 탐색 연산\n",
        "      pos=binary_search(self.table,key, 0, self.size()-1)\n",
        "      if pos is not None: return self.table[pos]\n",
        "      else: return None\n",
        "\n",
        "\n",
        "   def delete(self, key):                              # 삭제 연산: 항목 위치를 찾아 pop\n",
        "      for i in range(self.size()):                      \n",
        "         if self.table[i].key == key:                  # 삭제할 위치를 먼저 찾고 리스트의 pop으로 삭제\n",
        "            self.table.pop(i)\n",
        "            return"
      ],
      "metadata": {
        "id": "o1GRwu-Y8CIc"
      },
      "execution_count": 57,
      "outputs": []
    },
    {
      "cell_type": "code",
      "source": [
        "map = BinarySearchMap_7_5()\t\t\t\t\n",
        "map.insert('data', '자료 2202')\t\t\t\t\t\n",
        "map.insert('structure', '구조 2202')\n",
        "map.insert('sequential search', '선형 탐색 2202')\n",
        "map.insert('game', '게임 2202')\n",
        "map.insert('binary search', '이진 탐색 2202')\t\n",
        "map.display(\"단어장 내용: \")\t\t\t\n",
        "\n",
        "print(\"탐색:game --> \", map.search('game'))\t\n",
        "print(\"탐색:over --> \", map.search('over'))\n",
        "print(\"탐색:data --> \", map.search('data'))\n",
        "\n",
        "map.delete('game')\t\t\t\n",
        "map.delete('nogame')\t\t\t\n",
        "map.display(\"단어장 내용: \")"
      ],
      "metadata": {
        "id": "HoR6TbPr938q",
        "colab": {
          "base_uri": "https://localhost:8080/"
        },
        "outputId": "9ccbf305-3a6d-4fa1-d406-1ab33835145d"
      },
      "execution_count": 58,
      "outputs": [
        {
          "output_type": "stream",
          "name": "stdout",
          "text": [
            "단어장 내용: \n",
            "  data자료 2202\n",
            "  structure구조 2202\n",
            "  sequential search선형 탐색 2202\n",
            "  game게임 2202\n",
            "  binary search이진 탐색 2202\n",
            "탐색:game -->  None\n",
            "탐색:over -->  None\n",
            "탐색:data -->  data자료 2202\n",
            "단어장 내용: \n",
            "  data자료 2202\n",
            "  structure구조 2202\n",
            "  sequential search선형 탐색 2202\n",
            "  binary search이진 탐색 2202\n"
          ]
        }
      ]
    },
    {
      "cell_type": "markdown",
      "source": [
        "아래 셀에 P7.6 클래스 LinearProvingHM_7_6 을 구현하시오. 삽입과 삭제 연산 시, 충돌 과정과 처리 과정이 자세하게 출력되어야 함. \n",
        "- # 맵 생성 시, 초기 해시 크기를 인자값으로 받음.\n",
        "- hash function: h(k) = k mod 11"
      ],
      "metadata": {
        "id": "YHgh1e2Z-W7g"
      }
    },
    {
      "cell_type": "code",
      "source": [
        "class Entry:\n",
        "   def __init__(self, key, value):\n",
        "      self.key = key\n",
        "      self.value = value  \n",
        "    \n",
        "   def __str__(self):\n",
        "      return str(\"%s%s\"%(self.key, self.value)) \n",
        "\n",
        "class LinearProvingHM_7_6:\n",
        "    def __init__(self, size):\n",
        "        self.M = size\n",
        "        self.a = [None for x in range(size + 1)]\n",
        "        size.d = [None for x in range(size + 1)]\n",
        "    \n",
        "    def hash(self, key):\n",
        "        return key % self.M\n",
        "    \n",
        "    def put(self, key, data):\n",
        "        initial_position = self.hash(key)\n",
        "        i = initial_position\n",
        "        j = 0\n",
        "        while True:\n",
        "            if self.a[i] == None or self.a[i] == '$':\n",
        "                self.a[i] = key\n",
        "                self.d[i] = data\n",
        "                return\n",
        "            if self.a[i] == key:\n",
        "                self.d[i] = data\n",
        "                return\n",
        "            j += 1\n",
        "            i = (initial_position + j) % self.M\n",
        "            if i == initial_position:\n",
        "                break\n",
        "    \n",
        "    def get(self, key):\n",
        "        initial_position = self.hash(key)\n",
        "        i = initial_position\n",
        "        j = 1\n",
        "        while self.a[i] != None:\n",
        "            if self.a[i] == key:\n",
        "                return self.d[i]\n",
        "            j = (initial_position + j) % self.M\n",
        "            j += 1\n",
        "            if i == initial_position:\n",
        "                return None\n",
        "        return None\n",
        "\n",
        "    def delete(self, key):\n",
        "        initial_position = self.hash(key)\n",
        "        i = initial_position\n",
        "        j = 1\n",
        "        while self.a[i] != None:\n",
        "            if self.a[i] == key:\n",
        "                self.a[i] = '$'\n",
        "                self.d[i] = None\n",
        "            i = (initial_position + j) % self.M\n",
        "            j += 1\n",
        "            if i == initial_position:\n",
        "                return None\n",
        "        return None\n",
        "\n",
        "    def print_table(self):\n",
        "        for i in range(self.M):\n",
        "            print('{:4}'.format(str(self.a[i])), ' ', end='')\n",
        "        print()"
      ],
      "metadata": {
        "id": "YH_A7jUcAiAy"
      },
      "execution_count": 95,
      "outputs": []
    },
    {
      "cell_type": "markdown",
      "source": [
        "다음의 코드를 이용하여 LinearProvingHM_7_6을 테스트 하시오. "
      ],
      "metadata": {
        "id": "7L322VXsAiew"
      }
    },
    {
      "cell_type": "code",
      "source": [
        "LPHMmap = LinearProvingHM_7_6(11)\t\t\t\t\n",
        "LPHMmap.insert('12', 'data12')\t\t\t\t\t\n",
        "LPHMmap.insert('44', 'data44')\n",
        "LPHMmap.insert('13', 'data13')\n",
        "LPHMmap.insert('88', 'data88')\n",
        "LPHMmap.insert('23', 'data23')\n",
        "LPHMmap.insert('94', 'data94')\t\t\t\t\t\n",
        "LPHMmap.insert('11', 'data11')\n",
        "LPHMmap.insert('39', 'data39')\n",
        "LPHMmap.insert('20', 'data20')\n",
        "LPHMmap.insert('16', 'data16')\t\n",
        "LPHMmap.insert('05', 'data05')\t\n",
        "LPHMmap.display(\"단어장 내용: \")\t\t\t\n",
        "\n",
        "print(\"탐색:game --> \", LPHMmap.search('23'))\t\n",
        "print(\"탐색:over --> \", LPHMmap.search('20'))\n",
        "print(\"탐색:data --> \", LPHMmap.search('99'))\n",
        "\n",
        "LPHMmap.delete('23')\t\t\t\n",
        "LPHMmap.delete('20')\t\t\t\n",
        "LPHMmap.display(\"단어장 내용: \")"
      ],
      "metadata": {
        "id": "xQmFW19pBoaV",
        "colab": {
          "base_uri": "https://localhost:8080/",
          "height": 377
        },
        "outputId": "ad23e29e-a788-49cb-ada7-91af5ab4a39a"
      },
      "execution_count": 96,
      "outputs": [
        {
          "output_type": "error",
          "ename": "AttributeError",
          "evalue": "ignored",
          "traceback": [
            "\u001b[0;31m---------------------------------------------------------------------------\u001b[0m",
            "\u001b[0;31mAttributeError\u001b[0m                            Traceback (most recent call last)",
            "\u001b[0;32m<ipython-input-96-3dfaad60a2ca>\u001b[0m in \u001b[0;36m<module>\u001b[0;34m\u001b[0m\n\u001b[0;32m----> 1\u001b[0;31m \u001b[0mLPHMmap\u001b[0m \u001b[0;34m=\u001b[0m \u001b[0mLinearProvingHM_7_6\u001b[0m\u001b[0;34m(\u001b[0m\u001b[0;36m11\u001b[0m\u001b[0;34m)\u001b[0m\u001b[0;34m\u001b[0m\u001b[0;34m\u001b[0m\u001b[0m\n\u001b[0m\u001b[1;32m      2\u001b[0m \u001b[0mLPHMmap\u001b[0m\u001b[0;34m.\u001b[0m\u001b[0minsert\u001b[0m\u001b[0;34m(\u001b[0m\u001b[0;34m'12'\u001b[0m\u001b[0;34m,\u001b[0m \u001b[0;34m'data12'\u001b[0m\u001b[0;34m)\u001b[0m\u001b[0;34m\u001b[0m\u001b[0;34m\u001b[0m\u001b[0m\n\u001b[1;32m      3\u001b[0m \u001b[0mLPHMmap\u001b[0m\u001b[0;34m.\u001b[0m\u001b[0minsert\u001b[0m\u001b[0;34m(\u001b[0m\u001b[0;34m'44'\u001b[0m\u001b[0;34m,\u001b[0m \u001b[0;34m'data44'\u001b[0m\u001b[0;34m)\u001b[0m\u001b[0;34m\u001b[0m\u001b[0;34m\u001b[0m\u001b[0m\n\u001b[1;32m      4\u001b[0m \u001b[0mLPHMmap\u001b[0m\u001b[0;34m.\u001b[0m\u001b[0minsert\u001b[0m\u001b[0;34m(\u001b[0m\u001b[0;34m'13'\u001b[0m\u001b[0;34m,\u001b[0m \u001b[0;34m'data13'\u001b[0m\u001b[0;34m)\u001b[0m\u001b[0;34m\u001b[0m\u001b[0;34m\u001b[0m\u001b[0m\n\u001b[1;32m      5\u001b[0m \u001b[0mLPHMmap\u001b[0m\u001b[0;34m.\u001b[0m\u001b[0minsert\u001b[0m\u001b[0;34m(\u001b[0m\u001b[0;34m'88'\u001b[0m\u001b[0;34m,\u001b[0m \u001b[0;34m'data88'\u001b[0m\u001b[0;34m)\u001b[0m\u001b[0;34m\u001b[0m\u001b[0;34m\u001b[0m\u001b[0m\n",
            "\u001b[0;32m<ipython-input-95-f9475bcb9cb7>\u001b[0m in \u001b[0;36m__init__\u001b[0;34m(self, size)\u001b[0m\n\u001b[1;32m     11\u001b[0m         \u001b[0mself\u001b[0m\u001b[0;34m.\u001b[0m\u001b[0mM\u001b[0m \u001b[0;34m=\u001b[0m \u001b[0msize\u001b[0m\u001b[0;34m\u001b[0m\u001b[0;34m\u001b[0m\u001b[0m\n\u001b[1;32m     12\u001b[0m         \u001b[0mself\u001b[0m\u001b[0;34m.\u001b[0m\u001b[0ma\u001b[0m \u001b[0;34m=\u001b[0m \u001b[0;34m[\u001b[0m\u001b[0;32mNone\u001b[0m \u001b[0;32mfor\u001b[0m \u001b[0mx\u001b[0m \u001b[0;32min\u001b[0m \u001b[0mrange\u001b[0m\u001b[0;34m(\u001b[0m\u001b[0msize\u001b[0m \u001b[0;34m+\u001b[0m \u001b[0;36m1\u001b[0m\u001b[0;34m)\u001b[0m\u001b[0;34m]\u001b[0m\u001b[0;34m\u001b[0m\u001b[0;34m\u001b[0m\u001b[0m\n\u001b[0;32m---> 13\u001b[0;31m         \u001b[0msize\u001b[0m\u001b[0;34m.\u001b[0m\u001b[0md\u001b[0m \u001b[0;34m=\u001b[0m \u001b[0;34m[\u001b[0m\u001b[0;32mNone\u001b[0m \u001b[0;32mfor\u001b[0m \u001b[0mx\u001b[0m \u001b[0;32min\u001b[0m \u001b[0mrange\u001b[0m\u001b[0;34m(\u001b[0m\u001b[0msize\u001b[0m \u001b[0;34m+\u001b[0m \u001b[0;36m1\u001b[0m\u001b[0;34m)\u001b[0m\u001b[0;34m]\u001b[0m\u001b[0;34m\u001b[0m\u001b[0;34m\u001b[0m\u001b[0m\n\u001b[0m\u001b[1;32m     14\u001b[0m \u001b[0;34m\u001b[0m\u001b[0m\n\u001b[1;32m     15\u001b[0m     \u001b[0;32mdef\u001b[0m \u001b[0mhash\u001b[0m\u001b[0;34m(\u001b[0m\u001b[0mself\u001b[0m\u001b[0;34m,\u001b[0m \u001b[0mkey\u001b[0m\u001b[0;34m)\u001b[0m\u001b[0;34m:\u001b[0m\u001b[0;34m\u001b[0m\u001b[0;34m\u001b[0m\u001b[0m\n",
            "\u001b[0;31mAttributeError\u001b[0m: 'int' object has no attribute 'd'"
          ]
        }
      ]
    }
  ]
}
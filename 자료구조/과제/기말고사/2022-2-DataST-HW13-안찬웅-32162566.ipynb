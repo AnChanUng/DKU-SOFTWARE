{
  "nbformat": 4,
  "nbformat_minor": 0,
  "metadata": {
    "colab": {
      "provenance": []
    },
    "kernelspec": {
      "name": "python3",
      "display_name": "Python 3"
    },
    "language_info": {
      "name": "python"
    }
  },
  "cells": [
    {
      "cell_type": "markdown",
      "metadata": {
        "id": "AJ2jp6bcJg2V"
      },
      "source": [
        "자료구조 13주차 과제 \n",
        "- 이름: 안찬웅\n",
        "- 학번: 32162566\n",
        "\n",
        "- 과제: 각 5점 \n",
        "1. P10.1\n",
        "2. P10.2\n",
        "3. P10.3\n",
        "4. P10.4\n",
        "5. P10.6\n",
        "\n",
        "\n",
        "** 풀지 못한 문제 - 만일 과제의 문제를 다 풀지 못한 경우, 여기에 풀지 못한 번호를 적으시오. \n",
        "4. P10.4\n",
        "\n",
        "\n",
        "## <font color='red' > 과제는 문제에 대한 코딩이 완성되고 테스트를 통해 적절성이 검증된 경우만 점수가 부여되며, 이외 사항에 대해서는 0점 처리. 코드에 에러가 있음에도 불구하고,  과제 앞 부분 미완성 부분에 적시하지 않은 경우 전체 과제를 0점 처리합니다.  </font>"
      ]
    },
    {
      "cell_type": "markdown",
      "metadata": {
        "id": "Gag1en13KazR"
      },
      "source": [
        "# 10.1 \n",
        "아래에 코드셀을 만들고, 셀에 인접행렬로 표현된 그래프를 인자로 받아 깊이우선탐색을 하는 함수 matGraphDFS(...) 를 정의하시오. 함수는 visit 되는 vertex 값을 출력하여야 한다. "
      ]
    },
    {
      "cell_type": "code",
      "source": [
        "visited = set()\n",
        "def matGraphDFS(vertex, graphAM, start): # 'A' ~ 'H'를 0 ~ 7로 변환해서 사용\n",
        "                                         # start가 문자니까 start의 ASCII에서 'A'의 ASCII를 빼면 0 ~ 7이 됨\n",
        "    idx = ord(start) - ord('A')\n",
        "    if idx not in visited:               # visited에 넣는 것도 숫자\n",
        "        visited.add(idx)                 # start가 문자 start를 바로 출력\n",
        "        print(start, end = ' ')\n",
        "\n",
        "       # graphAM에서 idx가 가지는 배열이니 이를 순회하면서\n",
        "        for v in range(len(graphAM[idx])):\n",
        "            if graphAM[idx][v] == 1:\n",
        "                # 호출할 때 인자는 숫자가 아니라 문자 형태여야 하므로 vertex를 이용해 다시 숫자 -> 알파벳 변환\n",
        "                matGraphDFS(vertex, graphAM, vertex[v])"
      ],
      "metadata": {
        "id": "rNAdPcYV3qP7"
      },
      "execution_count": 65,
      "outputs": []
    },
    {
      "cell_type": "markdown",
      "metadata": {
        "id": "MVWKAmz-wecI"
      },
      "source": [
        "아래 코드셀은 10.1 를 테스트 하는 코드이다. 주어진 데이터를 이용하여 테스트를 실행하시오. "
      ]
    },
    {
      "cell_type": "code",
      "metadata": {
        "id": "VMw3QptJo0wo",
        "outputId": "726c9ac3-0bff-4068-854a-7c8c672ac15f",
        "colab": {
          "base_uri": "https://localhost:8080/"
        }
      },
      "source": [
        "# 교재 366 페이지 \n",
        "vertex = ['A', 'B', 'C', 'D', 'E', 'F', 'G', 'H' ]\n",
        "graphAM = [ [ 0,   1,   1,   0,   0,   0,   0,   0 ],\n",
        "            [ 1,   0,   0,   1,   0,   0,   0,   0 ],\n",
        "            [ 1,   0,   0,   1,   1,   0,   0,   0 ],\n",
        "            [ 0,   1,   1,   0,   0,   1,   0,   0 ],\n",
        "            [ 0,   0,   1,   0,   0,   0,   1,   1 ],\n",
        "            [ 0,   0,   0,   1,   0,   0,   0,   0 ],\n",
        "            [ 0,   0,   0,   0,   1,   0,   0,   1 ], \n",
        "            [ 0,   0,   0,   0,   1,   0,   1,   0 ] ]\n",
        "\n",
        "matGraphDFS(vertex, graphAM, 'A')"
      ],
      "execution_count": 66,
      "outputs": [
        {
          "output_type": "stream",
          "name": "stdout",
          "text": [
            "A B D C E G H F "
          ]
        }
      ]
    },
    {
      "cell_type": "markdown",
      "metadata": {
        "id": "Kb9RvSQfrEui"
      },
      "source": [
        "# 10.2\n",
        "아래에 코드셀을 만들고, 셀에 인접행렬로 표현된 그래프를 인자로 받아 너비우선탐색을 하는 함수 matGraphBFS(...) 를 정의하시오. 함수는 visit 되는 vertex 값을 출력하여야 한다."
      ]
    },
    {
      "cell_type": "code",
      "source": [
        "import collections as cols\n",
        "\n",
        "def matGraphBFS(vertex, graphAM, start): \n",
        "    idx = ord(start) - ord('A')\n",
        "\n",
        "    queue = cols.deque()       # 빈 덱에서 시작\n",
        "    queue.append(idx)\n",
        "\n",
        "    visited = set()\n",
        "    visited.add(idx)\n",
        "\n",
        "    while len(queue) > 0:      # 공백이 아닐 때까지\n",
        "        idx = queue.popleft()  # 큐에서 하나의 vertex 빼냄\n",
        "        print(vertex[idx], end=' ')\n",
        "        for v in range(len(graphAM[idx])):\n",
        "            if graphAM[idx][v] == 1 and v not in visited:\n",
        "                visited.add(v)\n",
        "                queue.append(v)"
      ],
      "metadata": {
        "id": "W6wdLrZmtG_P"
      },
      "execution_count": 86,
      "outputs": []
    },
    {
      "cell_type": "markdown",
      "metadata": {
        "id": "xRaT52vSrUT7"
      },
      "source": [
        "아래 코드셀은 10.2 을 테스트 하는 코드이다. 데이터는 10.1 문제에 사용한 vertex 와 graphAM 을 사용하시오."
      ]
    },
    {
      "cell_type": "code",
      "metadata": {
        "id": "EOLxleLIrZZe",
        "colab": {
          "base_uri": "https://localhost:8080/"
        },
        "outputId": "2009d869-10d4-4474-c090-e63a1555d5b3"
      },
      "source": [
        "matGraphBFS(vertex, graphAM, 'A')"
      ],
      "execution_count": 87,
      "outputs": [
        {
          "output_type": "stream",
          "name": "stdout",
          "text": [
            "A B C D E F G H "
          ]
        }
      ]
    },
    {
      "cell_type": "markdown",
      "metadata": {
        "id": "A666c2lcrgvr"
      },
      "source": [
        "# 10.3\n",
        "아래에 코드셀을 만들고, 셀에 인접행렬로 표현된 그래프를 인자로 받아 연결성분검사를  하는 함수 matGraphFindConnectedGrapth(...)와 너비우선 탐색을 이용한 matGraphBFS_cc(...) 를 정의하시오. 교재 379 페이지에 형식으로 연결성분을 출력하여야 한다. "
      ]
    },
    {
      "cell_type": "code",
      "source": [
        "def matGraphFindConnectedGrapth(adj_matrix):\n",
        "    \n",
        "    N, stack, BCClist = len(adj_matrix), [], []\n",
        "    \n",
        "    def dfs(v):\n",
        "        visited[v] = True\n",
        "        for adj_v in range(N):\n",
        "            if adj_matrix[v][adj_v] == 1 and not visited[adj_v]:\n",
        "                dfs(adj_v)\n",
        "        stack.append(v)\n",
        "        \n",
        "    def rev_dfs(v):\n",
        "        visited[v] = True\n",
        "        for adj_v in range(N):\n",
        "            if adj_matrix[adj_v][v] == 1 and not visited[adj_v]:\n",
        "                rev_dfs(adj_v)\n",
        "        bcclist.append(v)  \n",
        "        \n",
        "    visited = [False] * N\n",
        "    for v in range(N):\n",
        "        if not visited[v]:\n",
        "            dfs(v)\n",
        "    \n",
        "    visited = [False] * N\n",
        "    while stack:\n",
        "        v = stack.pop()\n",
        "        if not visited[v]:\n",
        "            bcclist = []\n",
        "            rev_dfs(v)\n",
        "            BCClist.append(bcclist)\n",
        "    \n",
        "    return BCClist"
      ],
      "metadata": {
        "id": "TRQWR_ihZMYg"
      },
      "execution_count": 104,
      "outputs": []
    },
    {
      "cell_type": "markdown",
      "metadata": {
        "id": "srKkgMb0s6BG"
      },
      "source": [
        "아래 코드셀은 10.3 을 테스트 하는 코드를 작성하시오. 데이터는 10.1 문제에 사용한 vertex 와 graphAM 을 사용하시오."
      ]
    },
    {
      "cell_type": "code",
      "source": [
        "print('matGraphFindConnectedGrapth: ')\n",
        "matGraphFindConnectedGrapth(graphAM)"
      ],
      "metadata": {
        "colab": {
          "base_uri": "https://localhost:8080/"
        },
        "id": "arrYle5M0TOV",
        "outputId": "39e01705-4a0c-4212-ea02-8b4f72a99601"
      },
      "execution_count": 105,
      "outputs": [
        {
          "output_type": "stream",
          "name": "stdout",
          "text": [
            "matGraphFindConnectedGrapth: \n"
          ]
        },
        {
          "output_type": "execute_result",
          "data": {
            "text/plain": [
              "[[7, 6, 4, 2, 5, 3, 1, 0]]"
            ]
          },
          "metadata": {},
          "execution_count": 105
        }
      ]
    },
    {
      "cell_type": "markdown",
      "source": [],
      "metadata": {
        "id": "z6yxlkZox2x-"
      }
    },
    {
      "cell_type": "markdown",
      "metadata": {
        "id": "dfcAA5ZktpAs"
      },
      "source": [
        "# 10.4\n",
        "아래에 코드셀을 만들고, 셀에 인접행렬로 표현된 그래프를 인자로 받아 너비우선탐색을 이용하여 신장트리를 구하는 함수 matGraphSpanningTreeBFS(...) 정의하시오. 교재 380 페이지에 있는 예제 형식으로 연결되는 간선들을 출력하여야 한다."
      ]
    },
    {
      "cell_type": "code",
      "source": [],
      "metadata": {
        "id": "AT3F1vx60zI1"
      },
      "execution_count": 84,
      "outputs": []
    },
    {
      "cell_type": "markdown",
      "source": [],
      "metadata": {
        "id": "4FrKngz40yfC"
      }
    },
    {
      "cell_type": "markdown",
      "metadata": {
        "id": "jSIx54oIugf2"
      },
      "source": [
        "아래 코드셀은 10.4 을 테스트 하는 코드를 작성하시오. 데이터는 10.1 문제에 사용한 vertex 와 graphAM 을 사용하시오."
      ]
    },
    {
      "cell_type": "code",
      "metadata": {
        "id": "7eLBVmfR9FjJ"
      },
      "source": [],
      "execution_count": 108,
      "outputs": []
    },
    {
      "cell_type": "markdown",
      "metadata": {
        "id": "xZLxOrNtu9ww"
      },
      "source": [
        "# 10.6\n",
        "아래에 코드셀을 만들고, 셀에 인접행렬로 표현된 그래프를 인자로 받아 브리지를 찾는 함수 matGraphFindBridge(...) 를 정의하시오.  "
      ]
    },
    {
      "cell_type": "code",
      "source": [
        "def matGraphFindBridge(vertex, graph):\n",
        "    n = len(vertex)\n",
        "    inDeg = [0] * n\n",
        "\n",
        "    for i in range(n):\n",
        "        for j in range(n):\n",
        "            if graph[i][j] > 0:\n",
        "                inDeg[j] += 1\n",
        "\n",
        "    vlist = []\n",
        "    for i in range(n):\n",
        "         if inDeg[i] == 0:\n",
        "             vlist.append(i)\n",
        "\n",
        "    while len(vlist) > 0:\n",
        "        v = vlist.pop()\n",
        "        print(vertex[v], end=' ')\n",
        "\n",
        "        for u in range(n):\n",
        "            if v != u and graph[v][u] > 0:\n",
        "                inDeg[u] -= 1\n",
        "                if inDeg[u] == 0:\n",
        "                    vlist.append(u)"
      ],
      "metadata": {
        "id": "ZXpj5Iys1hFs"
      },
      "execution_count": 47,
      "outputs": []
    },
    {
      "cell_type": "markdown",
      "metadata": {
        "id": "RwZgdgkQvgTO"
      },
      "source": [
        "아래 코드셀은 10.6 을 테스트 하는 코드를 작성하시오. 데이터는 문제 10.6 에 나와 있는 그래프를 인접행렬로 표현하여 사용하시오. "
      ]
    },
    {
      "cell_type": "code",
      "source": [
        "vertex = ['A', 'B', 'C', 'D', 'E', 'F']\n",
        "graphAM = [[0, 0, 1, 1, 0, 0],\n",
        "           [0, 0, 0, 1, 1, 0],\n",
        "           [0, 0, 0, 1, 0, 1],\n",
        "           [0, 0, 0, 0, 0, 1],\n",
        "           [0, 0, 0, 0, 0, 1],\n",
        "           [0, 0, 0, 0, 0, 0]]\n",
        "\n",
        "matGraphFindBridge(vertex, graphAM)\n",
        "print()"
      ],
      "metadata": {
        "colab": {
          "base_uri": "https://localhost:8080/"
        },
        "id": "Rd4i40hP2zfp",
        "outputId": "e770883c-8b11-446a-a38a-f9f91a37c399"
      },
      "execution_count": 82,
      "outputs": [
        {
          "output_type": "stream",
          "name": "stdout",
          "text": [
            "B E A C D F \n"
          ]
        }
      ]
    }
  ]
}
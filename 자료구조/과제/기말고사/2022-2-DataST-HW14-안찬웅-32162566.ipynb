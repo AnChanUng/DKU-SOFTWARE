{
  "nbformat": 4,
  "nbformat_minor": 0,
  "metadata": {
    "colab": {
      "provenance": []
    },
    "kernelspec": {
      "name": "python3",
      "display_name": "Python 3"
    },
    "language_info": {
      "name": "python"
    }
  },
  "cells": [
    {
      "cell_type": "markdown",
      "metadata": {
        "id": "AJ2jp6bcJg2V"
      },
      "source": [
        "## 자료구조 14주차 과제 \n",
        "- 이름: 안찬웅\n",
        "- 학번: \n",
        "\n",
        "- 과제: 각 10점\n",
        "1. P11.5\n",
        "2. P11.6\n",
        "\n",
        "\n",
        "** 풀지 못한 문제 - 만일 과제의 문제를 다 풀지 못한 경우, 여기에 풀지 못한 번호를 적으시오. \n",
        "\n",
        "\n",
        "## <font color='red' > 과제는 문제에 대한 코딩이 완성되고 테스트를 통해 적절성이 검증된 경우만 점수가 부여되며, 이외 사항에 대해서는 0점 처리. 코드에 에러가 있음에도 불구하고,  과제 앞 부분 미완성 부분에 적시하지 않은 경우 전체 과제를 0점 처리합니다.  </font>"
      ]
    },
    {
      "cell_type": "markdown",
      "metadata": {
        "id": "Gag1en13KazR"
      },
      "source": [
        "# 11.5\n",
        "아래에 코드셀을 만들고, 셀에 인접행렬로 표현된 그래프를 인자로 받아 Maximal Spanning Tree를 구하는 하는 함수 maxSpanningTree(...) 를 정의하시오. 함수는 visit 되는 407 페이지에 있는 그림처럼 추가되는 간선을 (x, y, weight) 형태로 출력할 것. "
      ]
    },
    {
      "cell_type": "code",
      "metadata": {
        "id": "2e4TtdBCbvJS"
      },
      "source": [
        "def maxSpanningTree(graph):\n",
        "    vertex, weight = graph\n",
        "    n = len(vertex)\n",
        "    visited = [False] * n\n",
        "    visited[0] = True\n",
        "    total = 0\n",
        "    for _ in range(n-1):\n",
        "        maxWeight = 0\n",
        "        maxVertex = 0\n",
        "        for i in range(n):\n",
        "            if visited[i]:\n",
        "                for j in range(n):\n",
        "                    if not visited[j] and weight[i][j] is not None and weight[i][j] > maxWeight:\n",
        "                        maxWeight = weight[i][j]\n",
        "                        maxVertex = j\n",
        "        visited[maxVertex] = True\n",
        "        total += maxWeight\n",
        "        print(f'간선 추가 : {vertex[maxVertex]} ({maxWeight})')\n",
        "\n",
        "    return total"
      ],
      "execution_count": 21,
      "outputs": []
    },
    {
      "cell_type": "markdown",
      "source": [],
      "metadata": {
        "id": "j4WrMPG2IVMr"
      }
    },
    {
      "cell_type": "markdown",
      "metadata": {
        "id": "MVWKAmz-wecI"
      },
      "source": [
        "아래 코드셀은 11.5 을 테스트 하는 코드이다. 주어진 데이터를 이용하여 테스트를 실행하시오. "
      ]
    },
    {
      "cell_type": "code",
      "metadata": {
        "id": "VMw3QptJo0wo",
        "colab": {
          "base_uri": "https://localhost:8080/"
        },
        "outputId": "94132837-d43f-478c-a670-bec3886d7288"
      },
      "source": [
        "# 교재 407 페이지 \n",
        "vertex =   ['A',    'B',    'C',    'D',    'E',    'F',    'G' ]\n",
        "weight = [ [None,\t29,\t\tNone,\tNone,\tNone,   10,\t\tNone],\n",
        "           [29,\tNone,\t16,\t\tNone,\tNone,\tNone,\t15  ],\n",
        "           [None,\t16,\t\tNone,\t12,\t\tNone,\tNone,\tNone],\n",
        "           [None,\tNone,   12,\t\tNone,\t22,\t\tNone,\t18  ],\n",
        "           [None,\tNone,\tNone,   22,\t\tNone,\t27,\t\t25  ],\n",
        "           [10,\tNone,\tNone,\tNone,   27,\t\tNone,\tNone],\n",
        "           [None,  15,\t\tNone,   18,\t\t25,\t\tNone,\tNone]]  \n",
        "\n",
        "graph = (vertex, weight)\n",
        "\n",
        "maxSpanningTree(graph)"
      ],
      "execution_count": 22,
      "outputs": [
        {
          "output_type": "stream",
          "name": "stdout",
          "text": [
            "간선 추가 : B (29)\n",
            "간선 추가 : C (16)\n",
            "간선 추가 : G (15)\n",
            "간선 추가 : E (25)\n",
            "간선 추가 : F (27)\n",
            "간선 추가 : D (22)\n"
          ]
        },
        {
          "output_type": "execute_result",
          "data": {
            "text/plain": [
              "134"
            ]
          },
          "metadata": {},
          "execution_count": 22
        }
      ]
    },
    {
      "cell_type": "markdown",
      "metadata": {
        "id": "Kb9RvSQfrEui"
      },
      "source": [
        "# 11.6\n",
        "아래에 코드셀을 만들고, 문제 11.6 의 솔루션을 제공하는 함수 dijkstra_SP_with_path_print(...)을 작성하시오. 교재 428 문제 11.6에 보이는 바와 같이 출력하도록 작성하시오. "
      ]
    },
    {
      "cell_type": "code",
      "metadata": {
        "id": "ljWmmigyeLB3"
      },
      "source": [
        "INF = int(1e9)\n",
        "\n",
        "graph = (vertex, weight)\n",
        "start = 0\n",
        "\n",
        "def dijkstra_SP_with_path_print(start, graph):\n",
        "    vertex, weight = graph\n",
        "    n = len(vertex)\n",
        "    visited = [False] * n\n",
        "    distance = weight[start]\n",
        "    path = [start] * n\n",
        "\n",
        "    visited[start] = True\n",
        "    for _ in range(n-1):\n",
        "        print('Step%2d : ' % (_+1), distance)\n",
        "        minDistance = INF\n",
        "        minVertex = 0\n",
        "        for i in range(n):\n",
        "            if not visited[i] and distance[i] < minDistance:\n",
        "                minDistance = distance[i]\n",
        "                minVertex = i\n",
        "        visited[minVertex] = True\n",
        "\n",
        "        for i in range(n):\n",
        "            if not visited[i] and weight[minVertex][i] != INF:\n",
        "                if distance[minVertex] + weight[minVertex][i] < distance[i]:\n",
        "                    distance[i] = distance[minVertex] + weight[minVertex][i]\n",
        "                    path[i] = minVertex\n",
        "\n",
        "\n",
        "    for i in range(n):\n",
        "        if i != start:\n",
        "            print(f'{vertex[start]} -> {vertex[i]} : {distance[i]} (', end='')\n",
        "            p = i\n",
        "            print(vertex[p], end='')\n",
        "            while p != start:\n",
        "                print(f' <- {vertex[path[p]]}', end='')\n",
        "                p = path[p]\n",
        "            print(')')"
      ],
      "execution_count": 26,
      "outputs": []
    },
    {
      "cell_type": "markdown",
      "metadata": {
        "id": "xRaT52vSrUT7"
      },
      "source": [
        "아래 코드셀은 11.6 을 테스트 하는 코드이다. 주어진 데이터를 이용하여 테스트를 실행하시오."
      ]
    },
    {
      "cell_type": "code",
      "metadata": {
        "id": "EOLxleLIrZZe",
        "colab": {
          "base_uri": "https://localhost:8080/"
        },
        "outputId": "344fd15b-cfce-4889-9d04-14e8074dd1ad"
      },
      "source": [
        "vertex =   ['A',    'B',    'C',    'D',    'E',    'F',    'G' \t]\n",
        "weight = [ [0,\t    7,\t\tINF,\t\tINF,\t\t3,      10,\t\tINF\t],\n",
        "           [7,\t\t0,\t    4,\t\t10,\t    2,\t    6,\t    INF\t],\n",
        "           [INF,\t4,\t\t0,\t\t2,\t\tINF,\t\tINF,\t\tINF\t],\n",
        "           [INF,\t10,\t\t2,\t\t0,      11,\t\t9,\t\t4   ],\n",
        "           [3,\t    2,\t    INF,   \t11,\t\t0,      13,\t\t5   ],\n",
        "           [10,\t6,\t    INF,\t\t9,      13,\t\t0,\t\tINF\t],\n",
        "           [INF,   INF,\t\tINF,   \t4,\t\t5,\t\tINF,\t\t0   ] ]   \n",
        "\n",
        "graph = (vertex, weight)\n",
        "start = 0\n",
        "dijkstra_SP_with_path_print(start, graph) # modified 12.06"
      ],
      "execution_count": 27,
      "outputs": [
        {
          "output_type": "stream",
          "name": "stdout",
          "text": [
            "Step 1 :  [0, 7, 1000000000, 1000000000, 3, 10, 1000000000]\n",
            "Step 2 :  [0, 5, 1000000000, 14, 3, 10, 8]\n",
            "Step 3 :  [0, 5, 9, 14, 3, 10, 8]\n",
            "Step 4 :  [0, 5, 9, 12, 3, 10, 8]\n",
            "Step 5 :  [0, 5, 9, 11, 3, 10, 8]\n",
            "Step 6 :  [0, 5, 9, 11, 3, 10, 8]\n",
            "A -> B : 5 (B <- E <- A)\n",
            "A -> C : 9 (C <- B <- E <- A)\n",
            "A -> D : 11 (D <- C <- B <- E <- A)\n",
            "A -> E : 3 (E <- A)\n",
            "A -> F : 10 (F <- A)\n",
            "A -> G : 8 (G <- E <- A)\n"
          ]
        }
      ]
    }
  ]
}